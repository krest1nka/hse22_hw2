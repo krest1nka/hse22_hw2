{
  "nbformat": 4,
  "nbformat_minor": 0,
  "metadata": {
    "colab": {
      "provenance": [],
      "collapsed_sections": []
    },
    "kernelspec": {
      "name": "python3",
      "display_name": "Python 3"
    },
    "language_info": {
      "name": "python"
    }
  },
  "cells": [
    {
      "cell_type": "markdown",
      "source": [
        "# Скачиваем данные и устанавливаем программы"
      ],
      "metadata": {
        "id": "WJ71oQTxShEj"
      }
    },
    {
      "cell_type": "code",
      "source": [
        "!wget https://raw.githubusercontent.com/krest1nka/hse22_hw2/main/data/gms2.lst"
      ],
      "metadata": {
        "id": "fWSU9pxNTOSR",
        "colab": {
          "base_uri": "https://localhost:8080/"
        },
        "outputId": "5666d580-00f3-42ce-e2b0-a9e729878363"
      },
      "execution_count": 99,
      "outputs": [
        {
          "output_type": "stream",
          "name": "stdout",
          "text": [
            "--2022-10-19 18:04:04--  https://raw.githubusercontent.com/krest1nka/hse22_hw2/main/data/gms2.lst\n",
            "Resolving raw.githubusercontent.com (raw.githubusercontent.com)... 185.199.108.133, 185.199.109.133, 185.199.110.133, ...\n",
            "Connecting to raw.githubusercontent.com (raw.githubusercontent.com)|185.199.108.133|:443... connected.\n",
            "HTTP request sent, awaiting response... 200 OK\n",
            "Length: 220269 (215K) [text/plain]\n",
            "Saving to: ‘gms2.lst.2’\n",
            "\n",
            "gms2.lst.2          100%[===================>] 215.11K  --.-KB/s    in 0.03s   \n",
            "\n",
            "2022-10-19 18:04:04 (8.33 MB/s) - ‘gms2.lst.2’ saved [220269/220269]\n",
            "\n"
          ]
        }
      ]
    },
    {
      "cell_type": "code",
      "source": [
        "!wget https://raw.githubusercontent.com/krest1nka/hse22_hw1/main/Poil*/Poil_gapClosed.fa"
      ],
      "metadata": {
        "id": "yWoD0myNTVi8",
        "colab": {
          "base_uri": "https://localhost:8080/"
        },
        "outputId": "cb2cfbce-22ff-4638-dddb-e857f49f974c"
      },
      "execution_count": 100,
      "outputs": [
        {
          "output_type": "stream",
          "name": "stdout",
          "text": [
            "Warning: wildcards not supported in HTTP.\n",
            "--2022-10-19 18:04:04--  https://raw.githubusercontent.com/krest1nka/hse22_hw1/main/Poil*/Poil_gapClosed.fa\n",
            "Resolving raw.githubusercontent.com (raw.githubusercontent.com)... 185.199.108.133, 185.199.109.133, 185.199.110.133, ...\n",
            "Connecting to raw.githubusercontent.com (raw.githubusercontent.com)|185.199.108.133|:443... connected.\n",
            "HTTP request sent, awaiting response... 200 OK\n",
            "Length: 3961581 (3.8M) [text/plain]\n",
            "Saving to: ‘Poil_gapClosed.fa.2’\n",
            "\n",
            "Poil_gapClosed.fa.2 100%[===================>]   3.78M  --.-KB/s    in 0.07s   \n",
            "\n",
            "2022-10-19 18:04:05 (53.1 MB/s) - ‘Poil_gapClosed.fa.2’ saved [3961581/3961581]\n",
            "\n"
          ]
        }
      ]
    },
    {
      "cell_type": "code",
      "source": [
        "!wget https://raw.githubusercontent.com/krest1nka/hse22_hw2/main/data/proteins.fasta"
      ],
      "metadata": {
        "id": "FkuulZekTbh9",
        "colab": {
          "base_uri": "https://localhost:8080/"
        },
        "outputId": "241f1e64-325e-4a1f-bde8-9b984f79ab7c"
      },
      "execution_count": 101,
      "outputs": [
        {
          "output_type": "stream",
          "name": "stdout",
          "text": [
            "--2022-10-19 18:04:05--  https://raw.githubusercontent.com/krest1nka/hse22_hw2/main/data/proteins.fasta\n",
            "Resolving raw.githubusercontent.com (raw.githubusercontent.com)... 185.199.110.133, 185.199.108.133, 185.199.111.133, ...\n",
            "Connecting to raw.githubusercontent.com (raw.githubusercontent.com)|185.199.110.133|:443... connected.\n",
            "HTTP request sent, awaiting response... 200 OK\n",
            "Length: 1401549 (1.3M) [text/plain]\n",
            "Saving to: ‘proteins.fasta.2’\n",
            "\n",
            "proteins.fasta.2    100%[===================>]   1.34M  --.-KB/s    in 0.06s   \n",
            "\n",
            "2022-10-19 18:04:05 (23.9 MB/s) - ‘proteins.fasta.2’ saved [1401549/1401549]\n",
            "\n"
          ]
        }
      ]
    },
    {
      "cell_type": "code",
      "source": [
        "!wget https://raw.githubusercontent.com/krest1nka/hse22_hw2/main/data/scaffolds.hits_from_MIL_1.txt"
      ],
      "metadata": {
        "id": "wljcApdJTjGr",
        "colab": {
          "base_uri": "https://localhost:8080/"
        },
        "outputId": "ecc65d5d-ffa0-4551-8e83-0a734b1cf3d9"
      },
      "execution_count": 102,
      "outputs": [
        {
          "output_type": "stream",
          "name": "stdout",
          "text": [
            "--2022-10-19 18:04:05--  https://raw.githubusercontent.com/krest1nka/hse22_hw2/main/data/scaffolds.hits_from_MIL_1.txt\n",
            "Resolving raw.githubusercontent.com (raw.githubusercontent.com)... 185.199.108.133, 185.199.109.133, 185.199.110.133, ...\n",
            "Connecting to raw.githubusercontent.com (raw.githubusercontent.com)|185.199.108.133|:443... connected.\n",
            "HTTP request sent, awaiting response... 200 OK\n",
            "Length: 869377 (849K) [text/plain]\n",
            "Saving to: ‘scaffolds.hits_from_MIL_1.txt.2’\n",
            "\n",
            "scaffolds.hits_from 100%[===================>] 849.00K  --.-KB/s    in 0.05s   \n",
            "\n",
            "2022-10-19 18:04:06 (17.9 MB/s) - ‘scaffolds.hits_from_MIL_1.txt.2’ saved [869377/869377]\n",
            "\n"
          ]
        }
      ]
    },
    {
      "cell_type": "code",
      "source": [
        "!wget https://raw.githubusercontent.com/krest1nka/hse22_hw2/main/data/scaffolds.hits_from_SwissProt.txt"
      ],
      "metadata": {
        "id": "7ZGyVtAfTopz",
        "colab": {
          "base_uri": "https://localhost:8080/"
        },
        "outputId": "29691a5f-8fa9-42e1-f67f-715f96dc4d40"
      },
      "execution_count": 103,
      "outputs": [
        {
          "output_type": "stream",
          "name": "stdout",
          "text": [
            "--2022-10-19 18:04:06--  https://raw.githubusercontent.com/krest1nka/hse22_hw2/main/data/scaffolds.hits_from_SwissProt.txt\n",
            "Resolving raw.githubusercontent.com (raw.githubusercontent.com)... 185.199.108.133, 185.199.109.133, 185.199.110.133, ...\n",
            "Connecting to raw.githubusercontent.com (raw.githubusercontent.com)|185.199.108.133|:443... connected.\n",
            "HTTP request sent, awaiting response... 200 OK\n",
            "Length: 66190 (65K) [text/plain]\n",
            "Saving to: ‘scaffolds.hits_from_SwissProt.txt.2’\n",
            "\n",
            "scaffolds.hits_from 100%[===================>]  64.64K  --.-KB/s    in 0.01s   \n",
            "\n",
            "2022-10-19 18:04:06 (5.38 MB/s) - ‘scaffolds.hits_from_SwissProt.txt.2’ saved [66190/66190]\n",
            "\n"
          ]
        }
      ]
    },
    {
      "cell_type": "markdown",
      "metadata": {
        "id": "EkEflOHmCHHW"
      },
      "source": [
        "## Скачиваем геном близкородственной бактерии T.oleivorans"
      ]
    },
    {
      "cell_type": "markdown",
      "metadata": {
        "id": "noBYTW1bRH9O"
      },
      "source": [
        "Геном, последовательности генов (нт) и белков (протеом) для бактерии Thalassolituus oleivorans MIL-1\n",
        "https://www.ncbi.nlm.nih.gov/nuccore/HF680312"
      ]
    },
    {
      "cell_type": "code",
      "source": [
        "!sh -c \"$(curl -fsSL ftp://ftp.ncbi.nlm.nih.gov/entrez/entrezdirect/install-edirect.sh)\""
      ],
      "metadata": {
        "id": "bqv3FR5efmk6",
        "colab": {
          "base_uri": "https://localhost:8080/"
        },
        "outputId": "a3ad7885-6df3-4847-f37a-fdf593e3610c"
      },
      "execution_count": 104,
      "outputs": [
        {
          "output_type": "stream",
          "name": "stdout",
          "text": [
            "\n",
            "Entrez Direct has been successfully downloaded and installed.\n",
            "\n",
            "\n",
            "To activate EDirect for this terminal session, please execute the following:\n",
            "\n",
            "export PATH=${PATH}:${HOME}/edirect\n",
            "\n"
          ]
        }
      ]
    },
    {
      "cell_type": "code",
      "source": [
        "!$HOME/edirect/efetch -db nuccore -id HF680312 -format gb  >  T_oleivorans_MIL_1.gbk"
      ],
      "metadata": {
        "id": "4O3-rUx4fvbw"
      },
      "execution_count": 105,
      "outputs": []
    },
    {
      "cell_type": "code",
      "metadata": {
        "id": "j2uga-mieSB6",
        "colab": {
          "base_uri": "https://localhost:8080/"
        },
        "outputId": "c68675f3-4783-4ce3-80ac-c984874d261a"
      },
      "source": [
        "!pip install biopython"
      ],
      "execution_count": 106,
      "outputs": [
        {
          "output_type": "stream",
          "name": "stdout",
          "text": [
            "Looking in indexes: https://pypi.org/simple, https://us-python.pkg.dev/colab-wheels/public/simple/\n",
            "Requirement already satisfied: biopython in /usr/local/lib/python3.7/dist-packages (1.79)\n",
            "Requirement already satisfied: numpy in /usr/local/lib/python3.7/dist-packages (from biopython) (1.21.6)\n"
          ]
        }
      ]
    },
    {
      "cell_type": "markdown",
      "source": [
        "# Аннотация генома"
      ],
      "metadata": {
        "id": "EJIw_JDLUgt5"
      }
    },
    {
      "cell_type": "code",
      "source": [
        "!head -n 20 gms2.lst"
      ],
      "metadata": {
        "id": "G33GF-iGU9Ka",
        "colab": {
          "base_uri": "https://localhost:8080/"
        },
        "outputId": "99679344-b018-483d-830a-a0879e7d6946"
      },
      "execution_count": 107,
      "outputs": [
        {
          "output_type": "stream",
          "name": "stdout",
          "text": [
            "# GeneMark.hmm-2 LST format\n",
            "# GeneMark.hmm-2 prokaryotic version: 1.25_lic\n",
            "# File with sequence: Poil_gapClosed.fa\n",
            "# File with native parameters: GMS2.mod\n",
            "# Native species name and build: unspecified GeneMarkS-2-1.14_1.25_lic\n",
            "# File with MetaGeneMark parameters: /content/gms2_linux_64/mgm_11.mod\n",
            "# translation table: 11\n",
            "# output date start: Tue Oct 18 19:22:05 2022\n",
            "\n",
            "# sequence-region 1 3875457\n",
            "SequenceID: scaffold1_cov232\n",
            "     1   -   <3    299     297 native ATGAGG 6 1\n",
            "     2   -    372    815     444 atypical GCGAGA 5 1\n",
            "     3   -    840    1361     522 atypical AGGAAG 6 1\n",
            "     4   -    1799    2626     828 atypical AGGATT 9 1\n",
            "     5   +    2972    3094     123 native TGGAGG 6 1\n",
            "     6   -    3269    4030     762 native CTGATT 5 1\n",
            "     7   -    4341    5516    1176 native AGGAGA 8 1\n",
            "     8   -    5541    7688    2148 native TGGAGA 7 1\n",
            "     9   +    8057    8851     795 native AGTAGA 5 1\n"
          ]
        }
      ]
    },
    {
      "cell_type": "markdown",
      "source": [
        "Добавляю аннотацию для скаффолдов:\n",
        "\n"
      ],
      "metadata": {
        "id": "OKK4GsdqZPZ6"
      }
    },
    {
      "cell_type": "code",
      "metadata": {
        "id": "1hegJvwMIiPe"
      },
      "source": [
        "from Bio import SeqIO\n",
        "from pprint import pprint\n",
        "from Bio.SeqFeature import SeqFeature, FeatureLocation\n",
        "import pandas as pd\n",
        "\n",
        "records = {}\n",
        "for record in SeqIO.parse(\"Poil_gapClosed.fa\", \"fasta\"):\n",
        "  record.annotations['molecule_type'] = 'DNA'\n",
        "  record.format('genbank')\n",
        "  records[record.id] = record"
      ],
      "execution_count": 117,
      "outputs": []
    },
    {
      "cell_type": "markdown",
      "source": [
        "#Координаты и трансляции генов:"
      ],
      "metadata": {
        "id": "YZJvUOlG-Crp"
      }
    },
    {
      "cell_type": "code",
      "metadata": {
        "id": "4cXKMhtmYZ9t",
        "colab": {
          "base_uri": "https://localhost:8080/"
        },
        "outputId": "0f4be176-3601-40ca-938f-1f23ab91d26a"
      },
      "source": [
        "genes = {}\n",
        "for gene in SeqIO.parse(\"proteins.fasta\", \"fasta\"):\n",
        "  gene_split = gene.description.split(' ')\n",
        "\n",
        "  record_id = gene_split[1]\n",
        "  strand = 1 if gene_split[4] == '+' else -1\n",
        "  a, b = int(gene_split[2]), int(gene_split[3])\n",
        "\n",
        "  feature = SeqFeature(FeatureLocation(start = a, end = b, strand = strand), type=\"CDS\")\n",
        "  feature.qualifiers['locus_tag'] = [gene_split[0]]\n",
        "  feature.qualifiers['translation'] = [gene.seq]\n",
        "  records[record_id].features.append(feature)\n",
        "  genes[gene_split[0]] = feature\n",
        "\n",
        "print(len(genes)) #общее количество генов"
      ],
      "execution_count": 109,
      "outputs": [
        {
          "output_type": "stream",
          "name": "stdout",
          "text": [
            "3608\n"
          ]
        }
      ]
    },
    {
      "cell_type": "markdown",
      "source": [
        "#Добавляю функции белков(MIL1):\n"
      ],
      "metadata": {
        "id": "hiwZUYQw9_wO"
      }
    },
    {
      "cell_type": "code",
      "source": [
        "mil_1_genes = {}\n",
        "for mil_1_g in SeqIO.read(\"T_oleivorans_MIL_1.gbk\", \"genbank\").features:\n",
        "    if 'protein_id' not in mil_1_g.qualifiers or 'product' not in mil_1_g.qualifiers:\n",
        "      continue\n",
        "    mil_1_genes[mil_1_g.qualifiers['protein_id'][0]] = mil_1_g.qualifiers['product'][0]"
      ],
      "metadata": {
        "id": "M6Z_MPfL6tTB"
      },
      "execution_count": 110,
      "outputs": []
    },
    {
      "cell_type": "code",
      "source": [
        "names = ['qseqid', 'sseqid', 'pident', 'length', 'mismatch', 'gapopen', 'qstart', 'qend', 'sstart', 'send', 'evalue', 'bitscore']\n",
        "hits = pd.read_csv('scaffolds.hits_from_MIL_1.txt', sep='\\t', names=names)\n",
        "hits = hits[hits['sseqid'].str.contains(\"CCU\")].sort_values('bitscore', ascending=False).drop_duplicates('qseqid')\n",
        "\n",
        "print(len(hits)) #количество генов аннотированных MIL-1"
      ],
      "metadata": {
        "colab": {
          "base_uri": "https://localhost:8080/"
        },
        "id": "dncL83ebYb9K",
        "outputId": "b2d7b019-dcee-43e4-daa9-6551b447d8a2"
      },
      "execution_count": 121,
      "outputs": [
        {
          "output_type": "stream",
          "name": "stdout",
          "text": [
            "3328\n"
          ]
        }
      ]
    },
    {
      "cell_type": "markdown",
      "source": [
        "#Добавляю функции белков(SwissProt):"
      ],
      "metadata": {
        "id": "Hj8Koiy9-Msb"
      }
    },
    {
      "cell_type": "code",
      "source": [
        "!wget https://ftp.uniprot.org/pub/databases/uniprot/current_release/knowledgebase/complete/uniprot_sprot.dat.gz"
      ],
      "metadata": {
        "colab": {
          "base_uri": "https://localhost:8080/"
        },
        "id": "tTRJ0KfnWIdt",
        "outputId": "a96837aa-7c0a-4c47-8b97-e772410b7311"
      },
      "execution_count": 112,
      "outputs": [
        {
          "output_type": "stream",
          "name": "stdout",
          "text": [
            "--2022-10-19 18:04:44--  https://ftp.uniprot.org/pub/databases/uniprot/current_release/knowledgebase/complete/uniprot_sprot.dat.gz\n",
            "Resolving ftp.uniprot.org (ftp.uniprot.org)... 128.175.240.195\n",
            "Connecting to ftp.uniprot.org (ftp.uniprot.org)|128.175.240.195|:443... connected.\n",
            "HTTP request sent, awaiting response... 200 OK\n",
            "Length: 642093634 (612M) [application/x-gzip]\n",
            "Saving to: ‘uniprot_sprot.dat.gz’\n",
            "\n",
            "uniprot_sprot.dat.g 100%[===================>] 612.35M  38.3MB/s    in 12s     \n",
            "\n",
            "2022-10-19 18:04:56 (52.2 MB/s) - ‘uniprot_sprot.dat.gz’ saved [642093634/642093634]\n",
            "\n"
          ]
        }
      ]
    },
    {
      "cell_type": "code",
      "source": [
        "!gzip -d uniprot_sprot.dat.gz"
      ],
      "metadata": {
        "id": "_7n4ZxdjWPxH",
        "colab": {
          "base_uri": "https://localhost:8080/"
        },
        "outputId": "5bc5c9be-1d76-4579-c8a2-2b5549bc91eb"
      },
      "execution_count": 113,
      "outputs": [
        {
          "output_type": "stream",
          "name": "stdout",
          "text": [
            "gzip: uniprot_sprot.dat already exists; do you wish to overwrite (y or n)? y\n"
          ]
        }
      ]
    },
    {
      "cell_type": "code",
      "source": [
        "!grep '^ID\\|^DE   RecName: Full=' uniprot_sprot.dat > names.txt"
      ],
      "metadata": {
        "id": "enhwL1BvKhGm"
      },
      "execution_count": 114,
      "outputs": []
    },
    {
      "cell_type": "code",
      "source": [
        "swiss_genes = {}\n",
        "id = \"\"\n",
        "for gene in open('names.txt'):\n",
        "  if gene.startswith('ID'):\n",
        "    id = gene.split()[1]\n",
        "  if gene.startswith('DE'):\n",
        "    swiss_genes[id] = line.split('=')[1][:-2]\n",
        "\n",
        "swiss_hits = pd.read_csv('scaffolds.hits_from_SwissProt.txt', sep='\\t', names=names).sort_values('bitscore', ascending=False).drop_duplicates('qseqid')\n",
        "\n",
        "print(len(shits)) #количество генов аннотированных с помощью SwissProt"
      ],
      "metadata": {
        "colab": {
          "base_uri": "https://localhost:8080/"
        },
        "id": "fgc4RBcVXkOz",
        "outputId": "83bf2aa6-3f66-4e20-ce8a-3752837ce4d7"
      },
      "execution_count": 124,
      "outputs": [
        {
          "output_type": "stream",
          "name": "stdout",
          "text": [
            "53\n"
          ]
        }
      ]
    },
    {
      "cell_type": "code",
      "source": [
        "SeqIO.write(records.values(), \"GENOME.gbk\", \"genbank\")"
      ],
      "metadata": {
        "colab": {
          "base_uri": "https://localhost:8080/"
        },
        "id": "meb8D-fzajq9",
        "outputId": "c26867a5-00b6-458e-b4c6-2f6cea257f83"
      },
      "execution_count": 119,
      "outputs": [
        {
          "output_type": "execute_result",
          "data": {
            "text/plain": [
              "68"
            ]
          },
          "metadata": {},
          "execution_count": 119
        }
      ]
    }
  ]
}